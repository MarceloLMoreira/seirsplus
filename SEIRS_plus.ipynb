{
  "nbformat": 4,
  "nbformat_minor": 0,
  "metadata": {
    "colab": {
      "name": "SEIRS plus.ipynb",
      "provenance": [],
      "authorship_tag": "ABX9TyM7VCyWr9+3xIJmnY3NpjCL",
      "include_colab_link": true
    },
    "kernelspec": {
      "name": "python3",
      "display_name": "Python 3"
    },
    "language_info": {
      "name": "python"
    }
  },
  "cells": [
    {
      "cell_type": "markdown",
      "metadata": {
        "id": "view-in-github",
        "colab_type": "text"
      },
      "source": [
        "<a href=\"https://colab.research.google.com/github/MarceloLMoreira/seirsplus/blob/master/SEIRS_plus.ipynb\" target=\"_parent\"><img src=\"https://colab.research.google.com/assets/colab-badge.svg\" alt=\"Open In Colab\"/></a>"
      ]
    },
    {
      "cell_type": "code",
      "metadata": {
        "colab": {
          "base_uri": "https://localhost:8080/"
        },
        "id": "O5cwT3b1iPdQ",
        "outputId": "b3185a6e-6ee2-4584-818b-4e5a31882046"
      },
      "source": [
        "#Preparando ambiente do seu Drive. Executar apenas uma vez para montar\n",
        "#arquivo no Google Drive\n",
        "from google.colab import drive\n",
        "drive.mount('/content/gdrive')"
      ],
      "execution_count": 1,
      "outputs": [
        {
          "output_type": "stream",
          "name": "stdout",
          "text": [
            "Mounted at /content/gdrive\n"
          ]
        }
      ]
    },
    {
      "cell_type": "code",
      "metadata": {
        "id": "Ip0KIj_yPZTY",
        "colab": {
          "base_uri": "https://localhost:8080/"
        },
        "outputId": "1dc09637-d8f4-4113-c4a6-38ef5ec1969f"
      },
      "source": [
        "#Instalação e importação de bibliotecas\n",
        "!pip install seirsplus\n",
        "from seirsplus.models import *\n",
        "from seirsplus.networks import *\n",
        "from seirsplus.sim_loops import *\n",
        "from seirsplus.utilities import *\n",
        "import networkx as nx\n",
        "import matplotlib.pyplot as mpl"
      ],
      "execution_count": 2,
      "outputs": [
        {
          "output_type": "stream",
          "name": "stdout",
          "text": [
            "Collecting seirsplus\n",
            "  Downloading seirsplus-1.0.9.tar.gz (64 kB)\n",
            "\u001b[?25l\r\u001b[K     |█████                           | 10 kB 19.2 MB/s eta 0:00:01\r\u001b[K     |██████████                      | 20 kB 23.1 MB/s eta 0:00:01\r\u001b[K     |███████████████▏                | 30 kB 23.9 MB/s eta 0:00:01\r\u001b[K     |████████████████████▏           | 40 kB 9.6 MB/s eta 0:00:01\r\u001b[K     |█████████████████████████▏      | 51 kB 9.3 MB/s eta 0:00:01\r\u001b[K     |██████████████████████████████▎ | 61 kB 10.8 MB/s eta 0:00:01\r\u001b[K     |████████████████████████████████| 64 kB 3.1 MB/s \n",
            "\u001b[?25hRequirement already satisfied: numpy in /usr/local/lib/python3.7/dist-packages (from seirsplus) (1.21.5)\n",
            "Requirement already satisfied: scipy in /usr/local/lib/python3.7/dist-packages (from seirsplus) (1.4.1)\n",
            "Requirement already satisfied: networkx in /usr/local/lib/python3.7/dist-packages (from seirsplus) (2.6.3)\n",
            "Building wheels for collected packages: seirsplus\n",
            "  Building wheel for seirsplus (setup.py) ... \u001b[?25l\u001b[?25hdone\n",
            "  Created wheel for seirsplus: filename=seirsplus-1.0.9-py3-none-any.whl size=64632 sha256=160547362fab720d29da81167b8eca254aa55f17e77b01239dbbb2ea2c9a0bc5\n",
            "  Stored in directory: /root/.cache/pip/wheels/23/8f/4f/04f0d234e0258559a69487b9f73b0518930a3c3586c32003e0\n",
            "Successfully built seirsplus\n",
            "Installing collected packages: seirsplus\n",
            "Successfully installed seirsplus-1.0.9\n"
          ]
        }
      ]
    },
    {
      "cell_type": "code",
      "metadata": {
        "id": "qSrry_bjQLvY"
      },
      "source": [
        "#Execução teste para visualização do grafo. A execução para realizar simulações está mais abaixo.\n",
        "#Parâmetros importantes\n",
        "  #numNodes: quantidade de agentes/nós\n",
        "  #m: média de visinhos para cada nó\n",
        "numNodes = 100 \n",
        "baseGraph    = networkx.barabasi_albert_graph(n=numNodes, m=9)\n",
        "G_normal     = custom_exponential_graph(baseGraph, scale=100)\n",
        "# Social distancing interactions:\n",
        "G_distancing = custom_exponential_graph(baseGraph, scale=10)\n",
        "# Quarantine interactions:\n",
        "G_quarantine = custom_exponential_graph(baseGraph, scale=5)"
      ],
      "execution_count": null,
      "outputs": []
    },
    {
      "cell_type": "code",
      "metadata": {
        "id": "LvXoClY3WKkt"
      },
      "source": [
        "#Execução teste para visualização do grafo base\n",
        "layout = nx.spring_layout(baseGraph)\n",
        "nx.draw(baseGraph, layout)\n",
        "mpl.show()"
      ],
      "execution_count": null,
      "outputs": []
    },
    {
      "cell_type": "code",
      "metadata": {
        "id": "o4gxAgGCWYbH"
      },
      "source": [
        "#Execução teste para visualização do grafo com quarentena\n",
        "layout = nx.spring_layout(G_quarantine)\n",
        "nx.draw(G_quarantine, layout)\n",
        "mpl.show()"
      ],
      "execution_count": null,
      "outputs": []
    },
    {
      "cell_type": "code",
      "metadata": {
        "id": "Zf2zoUztXGnv"
      },
      "source": [
        "#Execução real para criação dos grafos utilizados na simulação\n",
        "#Parâmetros importantes\n",
        "  #numNodes: quantidade de agentes/nós\n",
        "  #m: média de visinhos para cada nó\n",
        "numNodes = 5000\n",
        "baseGraph    = networkx.barabasi_albert_graph(n=numNodes, m=9)\n",
        "G_normal     = custom_exponential_graph(baseGraph, scale=100)\n",
        "# Social distancing interactions:\n",
        "G_distancing = custom_exponential_graph(baseGraph, scale=10)\n",
        "# Quarantine interactions:\n",
        "G_quarantine = custom_exponential_graph(baseGraph, scale=5)"
      ],
      "execution_count": null,
      "outputs": []
    },
    {
      "cell_type": "code",
      "metadata": {
        "id": "zHI2n-g8WeNV"
      },
      "source": [
        "#Execução do método que simula o modelo SEIRS+\n",
        "#Parâmetros importantes\n",
        "  #G: grafo\n",
        "  #beta: Taxa de transmissão\n",
        "  #sigma: Taxa de progressão\n",
        "  #gamma: Taxa de recuperação\n",
        "  #mu_I: Taxa de mortalidade\n",
        "  #p: Probabilidade de interação geral\n",
        "  #theta_E: Taxa de teste de indivíduos expostos\n",
        "  #theta_I: Taxa de teste de indivíduos infectados\n",
        "  #phi_E: Taxa de rastreamento de contatos para testes de indivíduos expostos\n",
        "  #phi_I: Taxa de rastreamento de contatos para testes de indivíduos infectados\n",
        "  #psi_E: Probabilidade de testes positivos para indivíduos expostos\n",
        "  #psi_I: Probabilidade de testes positivos para indivíduos infectados\n",
        "  #q: Probabilidade de interação dos indivíduos em quarentena\n",
        "  #initI: Número de indivíduos infectados inicialmente\n",
        "  #T: Tempo (dias) de duração da simulação\n",
        "\n",
        "\n",
        "model = SEIRSNetworkModel(G=G_distancing, beta=0.155, sigma=1/5.2, gamma=1/12.39, mu_I=0.0004, p=0.5, theta_E=0.1, \n",
        "                          theta_I=0.1, phi_E=0.4, phi_I=0.4, psi_E=1.0, psi_I=1.0, q=0.5, initI=10)\n",
        "\n",
        "checkpoints = {'t': [20, 100], 'G': [G_distancing, G_normal], 'p': [0.1, 0.5], 'theta_E': [0.02, 0.02], \n",
        "               'theta_I': [0.02, 0.02], 'phi_E':   [0.2, 0.2], 'phi_I':   [0.2, 0.2]}\n",
        "\n",
        "model.run(T=300, checkpoints=checkpoints)\n",
        "\n",
        "model.figure_infections()"
      ],
      "execution_count": null,
      "outputs": []
    }
  ]
}